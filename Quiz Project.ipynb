{
  "nbformat": 4,
  "nbformat_minor": 0,
  "metadata": {
    "colab": {
      "provenance": [],
      "authorship_tag": "ABX9TyPHWYto+HPUrm15XFIqcLav",
      "include_colab_link": true
    },
    "kernelspec": {
      "name": "python3",
      "display_name": "Python 3"
    },
    "language_info": {
      "name": "python"
    }
  },
  "cells": [
    {
      "cell_type": "markdown",
      "metadata": {
        "id": "view-in-github",
        "colab_type": "text"
      },
      "source": [
        "<a href=\"https://colab.research.google.com/github/Diwan18/Python-Projects/blob/main/Quiz%20Project.ipynb\" target=\"_parent\"><img src=\"https://colab.research.google.com/assets/colab-badge.svg\" alt=\"Open In Colab\"/></a>"
      ]
    },
    {
      "cell_type": "code",
      "execution_count": 3,
      "metadata": {
        "colab": {
          "base_uri": "https://localhost:8080/"
        },
        "id": "xk4ksYuf3REz",
        "outputId": "81ba6256-4ee2-4ac4-8cc3-a1ce38d8df0b"
      },
      "outputs": [
        {
          "output_type": "stream",
          "name": "stdout",
          "text": [
            "Welcome to computer quiz\n",
            "Do you want to play?  yes\n",
            "Lets play!\n",
            "What CPU Stands For?  central processing unit\n",
            "Yes, Correct!\n",
            "What RAM Stands For?  read access memory\n",
            "Yes, Correct!\n",
            "What GPU Stands For?  graphics processing unit\n",
            "Yes, Correct!\n",
            "Score = 3\n",
            "You got 75.0%.\n"
          ]
        }
      ],
      "source": [
        "print(\"Welcome to computer quiz\")\n",
        "playing = input(\"Do you want to play?  \").lower()\n",
        "if playing != \"yes\":\n",
        "    print(\"The End \")\n",
        "    quit()\n",
        "print (\"Lets play!\")\n",
        "score = 0\n",
        "\n",
        "Answer = input(\"What CPU Stands For?  \").lower()\n",
        "\n",
        "if Answer == \"central processing unit\" :\n",
        "    print(\"Yes, Correct!\")\n",
        "    score += 1\n",
        "else :\n",
        "    print(\"Incorrect Tryagain \")\n",
        "\n",
        "Answer = input(\"What RAM Stands For?  \").lower()\n",
        "\n",
        "if Answer == \"read access memory\" :\n",
        "    print(\"Yes, Correct!\")\n",
        "    score += 1\n",
        "else :\n",
        "    print(\"Incorrect\")\n",
        "\n",
        "Answer = input(\"What GPU Stands For?  \").lower()\n",
        "\n",
        "if Answer == \"graphics processing unit\" :\n",
        "    print(\"Yes, Correct!\")\n",
        "    score += 1\n",
        "else :\n",
        "    print(\"Incorrect \")\n",
        "\n",
        "print(\"Score = \" + str(score)  )\n",
        "print(\"You got \" + str(score/3 * 100) +\"%.\")"
      ]
    }
  ]
}